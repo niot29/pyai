{
 "cells": [
  {
   "cell_type": "markdown",
   "metadata": {},
   "source": [
    "# Analysis on English Premier League (2020-2022). \n",
    "Reference data is taken in from \"https://fbref.com/en/comps/9/Premier-League-Stats\"\n",
    "the infrormation is save in file \"matchs2.csv\" hand contain all the EPL matches between sesasn 2020-2022"
   ]
  },
  {
   "cell_type": "code",
   "execution_count": 3,
   "metadata": {},
   "outputs": [],
   "source": [
    "# Import depdelses\n",
    "import pandas as pd"
   ]
  },
  {
   "cell_type": "code",
   "execution_count": null,
   "metadata": {},
   "outputs": [],
   "source": [
    "# Get data from file with panda\n",
    "# Notis python 9.3 requere ipykernel\n",
    "eplmatches = pd.read_csv(\"matches2.csv\")\n",
    "eplmatches"
   ]
  },
  {
   "cell_type": "code",
   "execution_count": 12,
   "metadata": {},
   "outputs": [
    {
     "data": {
      "text/plain": [
       "(1052, 28)"
      ]
     },
     "execution_count": 12,
     "metadata": {},
     "output_type": "execute_result"
    }
   ],
   "source": [
    "eplmatches.shape\n",
    "# resturn 1053 rows and 28 colums"
   ]
  },
  {
   "cell_type": "markdown",
   "metadata": {},
   "source": [
    "# Column explanation \n",
    "- date - match date \n",
    "- time - paly time\n",
    "comp - competation \"Premier League, Euro League ect.\"\n",
    "round - league round \n",
    "day - match day\n",
    "venue - team playing  at (home/away)\n",
    "result - matchs result\n",
    "gf - goal for\n",
    "ga - goal against\n",
    "opponent - team play against\n",
    "xg - Expeted goal\n",
    "xga -Expeted goal against\n",
    "poss - prossession (pass attemt in procent)\n",
    "attendance\n",
    "captain -  team captain\n",
    "formation - team play formation\n",
    "referee \n",
    "match report - (just futher linkt, not need )\n",
    "notes - -(just futher info, not need )\n",
    "\n",
    "sh,sot,dist,fk,pk,pkatt,season,\n",
    "team - team\n"
   ]
  },
  {
   "cell_type": "markdown",
   "metadata": {},
   "source": []
  }
 ],
 "metadata": {
  "kernelspec": {
   "display_name": "Python 3.9.10 ('.env': venv)",
   "language": "python",
   "name": "python3"
  },
  "language_info": {
   "codemirror_mode": {
    "name": "ipython",
    "version": 3
   },
   "file_extension": ".py",
   "mimetype": "text/x-python",
   "name": "python",
   "nbconvert_exporter": "python",
   "pygments_lexer": "ipython3",
   "version": "3.9.10"
  },
  "orig_nbformat": 4,
  "vscode": {
   "interpreter": {
    "hash": "58add72de1a6c6e0652560a1b896352a2f82bd9e526eef5953d7140c00c837d4"
   }
  }
 },
 "nbformat": 4,
 "nbformat_minor": 2
}
