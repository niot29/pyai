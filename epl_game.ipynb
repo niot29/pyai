{
 "cells": [
  {
   "cell_type": "markdown",
   "metadata": {},
   "source": [
    "# Analysis on English Premier League (2020-2022). \n",
    "# Reference data is taken in from \"https://fbref.com/en/comps/9/Premier-League-Stats\"\n",
    "# the infrormation is save in file \"matchs2.csv\" hand contain all the EPL matches between sesasn 2020-2022"
   ]
  }
 ],
 "metadata": {
  "language_info": {
   "name": "python"
  },
  "orig_nbformat": 4
 },
 "nbformat": 4,
 "nbformat_minor": 2
}
