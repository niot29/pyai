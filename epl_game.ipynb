{
 "cells": [
  {
   "cell_type": "markdown",
   "metadata": {},
   "source": [
    "# Analysis on English Premier League (2020-2022). \n",
    "Reference data is taken in from \"https://fbref.com/en/comps/9/Premier-League-Stats\"\n",
    "the infrormation is save in file \"matchs2.csv\" hand contain all the EPL matches between sesasn 2020-2022"
   ]
  },
  {
   "cell_type": "code",
   "execution_count": 52,
   "metadata": {},
   "outputs": [],
   "source": [
    "# Import depdelses\n",
    "import pandas as pd\n",
    "import numpy as np\n"
   ]
  },
  {
   "cell_type": "code",
   "execution_count": null,
   "metadata": {},
   "outputs": [],
   "source": [
    "# Get data from file with panda\n",
    "# Notis python 9.3 requere ipykernel\n",
    "eplmatches = pd.read_csv(\"matches2.csv\")\n",
    "eplmatches"
   ]
  },
  {
   "cell_type": "code",
   "execution_count": 12,
   "metadata": {},
   "outputs": [
    {
     "data": {
      "text/plain": [
       "(1052, 28)"
      ]
     },
     "execution_count": 12,
     "metadata": {},
     "output_type": "execute_result"
    }
   ],
   "source": [
    "eplmatches.shape\n",
    "# resturn 1053 rows and 28 colums"
   ]
  },
  {
   "cell_type": "markdown",
   "metadata": {},
   "source": [
    "# Task 2: Column explanation \n",
    "- date - match date \n",
    "- time - paly time\n",
    "- comp - competation \"Premier League, Euro League ect.\"\n",
    "- round - league round \n",
    "- day - match day\n",
    "- venue - team playing  at (home/away)\n",
    "- result - matchs result\n",
    "- gf - goal for\n",
    "- ga - goal against\n",
    "- opponent - team play against\n",
    "- xg - Expeted goal\n",
    "- xga -Expeted goal against\n",
    "- poss - prossession (pass attemt in procent)\n",
    "- attendance\n",
    "- captain -  team captain\n",
    "- formation - team play formation\n",
    "- referee \n",
    "- match report - (just futher linkt, not need )\n",
    "- notes - -(just futher info, not need )\n",
    "- team - team\n",
    "\n",
    "- sh,sot,dist,fk,pk,pkatt,season - (..)\n",
    "\n"
   ]
  },
  {
   "cell_type": "code",
   "execution_count": null,
   "metadata": {},
   "outputs": [],
   "source": [
    "# Task 3: intressting in the following column.\n",
    "# team,venue,gf,ga, formation,opponent\n",
    "# add it to new dataset \"gamedata\"\n",
    "gamedata = eplmatches.loc[:,['date','team','venue','opponent','gf','ga','formation','result']]\n",
    "gamedata"
   ]
  },
  {
   "cell_type": "code",
   "execution_count": null,
   "metadata": {},
   "outputs": [],
   "source": [
    "# Task 4: check data type.\n",
    "gamedata.dtypes\n",
    "\n"
   ]
  },
  {
   "cell_type": "code",
   "execution_count": null,
   "metadata": {},
   "outputs": [],
   "source": [
    "# Task 5:  gf and ge is datatype float, more appropriate if it were of datatype int \n",
    "# convert float to int\n",
    "# convert date to pd datetime\n",
    "# Add new col with converted venue as int (0 = away, 1 = home )\n",
    "# Add new col with converted formation\n",
    "# ¨as int (0 = away, 1 = home )# Add new col with converted opponent as int (0 = away, 1 = home )\n",
    "\n",
    "gamedata['date'] = pd.to_datetime(gamedata['date'])\n",
    "gamedata['gf'] = gamedata['gf'].astype(int)\n",
    "gamedata['ga'] = gamedata['ga'].astype(int)\n",
    "gamedata['venue_code'] = gamedata['venue'].astype(\"category\").cat.codes\n",
    "gamedata['opponent_code'] = gamedata['opponent'].astype(\"category\").cat.codes\n",
    "gamedata['formation_code'] = gamedata['formation'].astype(\"category\").cat.codes\n",
    "\n",
    "gamedata"
   ]
  },
  {
   "cell_type": "code",
   "execution_count": null,
   "metadata": {},
   "outputs": [],
   "source": [
    "# Task 6: pandas detemed if any column is null\n",
    "# (all tyhe colum,e contain data)\n",
    "gamedata.isnull().sum()"
   ]
  },
  {
   "cell_type": "markdown",
   "metadata": {},
   "source": [
    "Task 7:\n",
    "This type of dataset is known and the relationship between the columns is traceable.\n",
    "Relationship between column gf and ga determed the outcom of result\n",
    "(gf - ga) > 0 = W else L"
   ]
  },
  {
   "cell_type": "markdown",
   "metadata": {},
   "source": [
    "Task 8: \n",
    " Yes my dataset if not complet. is just contain the EPL seson 2020-2022 and Epl startad at 1992. So there are more data infrmation if need. \n",
    " \n",
    "\n",
    " Premier League formed in 1992, and moste of the broker and static firme shuold have the information on all the mactches since 1992. \n",
    " It's possible to get date infromation from all the seson from 1992-2022. Easys way is to pay the broker or static comapine to access ther data scource.\n",
    " More work if for  manuellt creaping data from webb sit. "
   ]
  }
 ],
 "metadata": {
  "kernelspec": {
   "display_name": "Python 3.9.10 ('.env': venv)",
   "language": "python",
   "name": "python3"
  },
  "language_info": {
   "codemirror_mode": {
    "name": "ipython",
    "version": 3
   },
   "file_extension": ".py",
   "mimetype": "text/x-python",
   "name": "python",
   "nbconvert_exporter": "python",
   "pygments_lexer": "ipython3",
   "version": "3.9.10"
  },
  "orig_nbformat": 4,
  "vscode": {
   "interpreter": {
    "hash": "58add72de1a6c6e0652560a1b896352a2f82bd9e526eef5953d7140c00c837d4"
   }
  }
 },
 "nbformat": 4,
 "nbformat_minor": 2
}
